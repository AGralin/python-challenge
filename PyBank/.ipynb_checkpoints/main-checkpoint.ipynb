{
 "cells": [
  {
   "cell_type": "code",
   "execution_count": 1,
   "id": "24245046-1ab9-45fd-98eb-d0e06be86ad8",
   "metadata": {},
   "outputs": [],
   "source": [
    "import os\n",
    "import csv\n",
    "\n",
    "csvpath = os.path.join(\"..\", \"budget_data.csv\")\n"
   ]
  },
  {
   "cell_type": "code",
   "execution_count": 2,
   "id": "ea5603cd-111a-42b6-83e6-85981bbf6fec",
   "metadata": {},
   "outputs": [],
   "source": [
    "#initialize variable to hold P/L\n",
    "records = []"
   ]
  },
  {
   "cell_type": "code",
   "execution_count": 3,
   "id": "eea464a1-971a-4435-a589-4b2c5ef3745c",
   "metadata": {},
   "outputs": [],
   "source": [
    "line_num = 0"
   ]
  },
  {
   "cell_type": "code",
   "execution_count": null,
   "id": "63bc9f37-cccf-4250-8a6c-415cc8ef3858",
   "metadata": {
    "tags": []
   },
   "outputs": [],
   "source": [
    "#open csv file\n",
    "with open(csvpath, 'r') as csvfile:\n",
    "    csvreader = csv.reader(csvfile, delimiter=',')\n",
    "    # Go to the next row from the start of the file\n",
    "    header = next(csvreader)\n",
    "    line_num += 1\n",
    "    # Read each row of data after the header\n",
    "    for row in csvreader:\n",
    "        print(row)\n",
    "        PL = int(row[1])\n",
    "        #append row P/L value to list of records\n",
    "        records.append(PL)\n",
    " "
   ]
  },
  {
   "cell_type": "code",
   "execution_count": 1,
   "id": "5b789db1-7312-4e56-be79-a1c1b28313e1",
   "metadata": {},
   "outputs": [],
   "source": [
    "total_months = 0\n",
    "total = 0\n",
    "avg_profit_loss = 0\n",
    "max_increase = 0\n",
    "max_decrease = 0"
   ]
  },
  {
   "cell_type": "code",
   "execution_count": null,
   "id": "c5f2bdc7-7ae0-4591-b162-6faea3e337d8",
   "metadata": {},
   "outputs": [],
   "source": [
    "#calculate average\n",
    "avg_profit_loss = round(total / total_months, 2)"
   ]
  },
  {
   "cell_type": "code",
   "execution_count": null,
   "id": "39e995af-277b-4063-91e3-89baf4884690",
   "metadata": {},
   "outputs": [],
   "source": [
    "#print values\n",
    "print(max_increase, max_decrease, avg_profit_loss)"
   ]
  }
 ],
 "metadata": {
  "kernelspec": {
   "display_name": "dev",
   "language": "python",
   "name": "dev"
  },
  "language_info": {
   "codemirror_mode": {
    "name": "ipython",
    "version": 3
   },
   "file_extension": ".py",
   "mimetype": "text/x-python",
   "name": "python",
   "nbconvert_exporter": "python",
   "pygments_lexer": "ipython3",
   "version": "3.7.13"
  }
 },
 "nbformat": 4,
 "nbformat_minor": 5
}
